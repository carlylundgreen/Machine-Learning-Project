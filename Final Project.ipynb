{
 "cells": [
  {
   "cell_type": "markdown",
   "metadata": {},
   "source": [
    "# Stat 426 Machine Learning Project: Flash Floods in Utah"
   ]
  },
  {
   "cell_type": "markdown",
   "metadata": {},
   "source": [
    "## Introduction\n",
    "\n",
    "The data I am using for this project comes from the NOAA (National Oceanic and Atmospheric Administration). The data is accessible through NOAA's National Centers for Environmental Information (NCEI). For reference, the data I will be using is aggregated from a list of csv files that I accessed through the NCEI. The files are found at this url: https://www1.ncdc.noaa.gov/pub/data/swdi/stormevents/csvfiles/legacy/. Information about the dataset and variables gathered can be found at https://www1.ncdc.noaa.gov/pub/data/swdi/stormevents/csvfiles/Storm-Data-Export-Format.pdf. The data ranges from 1996 to 2013, but for simplicity, I have accessed only the data from 2007 to 2013. These files have information about a variety of weather-related events, such as wildfires, landslides, hurricanes, tsunamis, and even rip currents. I have decided to focus my project on flash flooding. Specifically, I am interested in flash floods in Utah. I know that Southern Utah is very prone to flooding, so I'm interested to see if the volume of flash floods is significantly greater in the southern portion of the state compared to the north. \n",
    "\n",
    "The goals of this analysis are to use various factors such as length (in hours), distance (in miles), day of the month, and flood cause (most of the flash floods are caused by rain) to see whether we can classify whether or not there was property damage from the flood.\n",
    "\n",
    "A potential further analysis would be to expand the model to a certain region or combine types of events (for example hurricanes and tsunamis) in a type of aggregate analysis.\n",
    "\n"
   ]
  },
  {
   "cell_type": "markdown",
   "metadata": {},
   "source": [
    "## Data Import and Cleaning\n",
    "\n",
    "My process of getting this data included aggregating the csv files found on the website linked above. I then created variables such as distance and duration from these variables, the process of which is seen below. There was a relatively large amount of data cleaning involved in this project because the raw CSV data was a bit untidy."
   ]
  },
  {
   "cell_type": "code",
   "execution_count": 1,
   "metadata": {},
   "outputs": [],
   "source": [
    "import pandas as pd\n",
    "import numpy as np \n",
    "import requests\n",
    "from tqdm import tqdm_notebook as tqdm #this allows me to create progress bars for time-consuming loops\n",
    "import json\n",
    "import seaborn as sns\n",
    "import matplotlib.pyplot as plt\n",
    "sns.set_style('whitegrid')"
   ]
  },
  {
   "cell_type": "code",
   "execution_count": 6,
   "metadata": {},
   "outputs": [],
   "source": [
    "#create a list of the filenames that I'm reading in from the NOAA webpage\n",
    "years1 = list(range(2007,2010))\n",
    "years2 = list(range(2010,2014))\n",
    "\n",
    "all_files = []\n",
    "for i in years1:\n",
    "    url = 'https://www1.ncdc.noaa.gov/pub/data/swdi/stormevents/csvfiles/legacy/Stormdata_' + str(i) +'.csv'\n",
    "    all_files.append(url)\n",
    "for i in years2: \n",
    "    url = 'https://www1.ncdc.noaa.gov/pub/data/swdi/stormevents/csvfiles/legacy/stormdata_' + str(i) +'.csv'\n",
    "    all_files.append(url)"
   ]
  },
  {
   "cell_type": "code",
   "execution_count": 7,
   "metadata": {},
   "outputs": [
    {
     "data": {
      "text/plain": [
       "['https://www1.ncdc.noaa.gov/pub/data/swdi/stormevents/csvfiles/legacy/Stormdata_2007.csv',\n",
       " 'https://www1.ncdc.noaa.gov/pub/data/swdi/stormevents/csvfiles/legacy/Stormdata_2008.csv',\n",
       " 'https://www1.ncdc.noaa.gov/pub/data/swdi/stormevents/csvfiles/legacy/Stormdata_2009.csv',\n",
       " 'https://www1.ncdc.noaa.gov/pub/data/swdi/stormevents/csvfiles/legacy/stormdata_2010.csv',\n",
       " 'https://www1.ncdc.noaa.gov/pub/data/swdi/stormevents/csvfiles/legacy/stormdata_2011.csv',\n",
       " 'https://www1.ncdc.noaa.gov/pub/data/swdi/stormevents/csvfiles/legacy/stormdata_2012.csv',\n",
       " 'https://www1.ncdc.noaa.gov/pub/data/swdi/stormevents/csvfiles/legacy/stormdata_2013.csv']"
      ]
     },
     "execution_count": 7,
     "metadata": {},
     "output_type": "execute_result"
    }
   ],
   "source": [
    "all_files"
   ]
  },
  {
   "cell_type": "code",
   "execution_count": 8,
   "metadata": {},
   "outputs": [
    {
     "data": {
      "application/vnd.jupyter.widget-view+json": {
       "model_id": "4a22a8db7f8b4fd882e51d7feec03c59",
       "version_major": 2,
       "version_minor": 0
      },
      "text/plain": [
       "HBox(children=(IntProgress(value=0, max=7), HTML(value='')))"
      ]
     },
     "metadata": {},
     "output_type": "display_data"
    },
    {
     "name": "stdout",
     "output_type": "stream",
     "text": [
      "\n"
     ]
    }
   ],
   "source": [
    "##READ IN DATA FROM WEB: (note that adding more files significantly increases the runtime of this loop)\n",
    "li = []\n",
    "\n",
    "for filename in tqdm(all_files):\n",
    "    df = pd.read_csv(filename, index_col=None, header=0,encoding=\"cp1252\",dtype={'SOURCE':object,'MAGNITUDE_TYPE':object,\"EVENT_NARRATIVE\":object})\n",
    "    li.append(df)\n",
    "\n",
    "frame = pd.concat(li, axis=0, ignore_index=True)"
   ]
  },
  {
   "cell_type": "code",
   "execution_count": 10,
   "metadata": {},
   "outputs": [],
   "source": [
    "#select only the data about flash floods in Utah:\n",
    "flood = frame[frame.EVENT_TYPE == 'Flash Flood']\n",
    "utah = flood[flood.STATE == 'UTAH']\n",
    "utah = utah.dropna(axis=1,how='all') #drop columns that are entirely missing values\n",
    "deaths = utah.EPISODE_NARRATIVE[utah.DEATHS_DIRECT != 0].tolist() #narratives of floods that led to fatalities"
   ]
  },
  {
   "cell_type": "code",
   "execution_count": 11,
   "metadata": {},
   "outputs": [],
   "source": [
    "#Get the coordinates of the start and end locations of the flood\n",
    "\n",
    "#create a dataframe of the beginning latitudes and longitudes\n",
    "b_lat_long = pd.DataFrame([utah.BEGIN_LAT,utah.BEGIN_LON]).transpose()\n",
    "b_lat_long = b_lat_long.rename(columns={'BEGIN_LON':'beginlong','BEGIN_LAT':'beginlat'})\n",
    "b_lat_long['location'] = list(zip(b_lat_long.beginlat, b_lat_long.beginlong)) #combine them in a tuple and append to list\n",
    "#create a dataframe of the ending latitudes and longitudes\n",
    "e_lat_long = pd.DataFrame([utah.END_LAT,utah.END_LON]).transpose()\n",
    "e_lat_long = e_lat_long.rename(columns={'END_LON':'endlong','END_LAT':'endlat'})\n",
    "e_lat_long['location'] = list(zip(e_lat_long.endlat,e_lat_long.endlong)) #combine them in a tuple and append to list\n",
    "\n",
    "begin_coords = b_lat_long.location \n",
    "end_coords = e_lat_long.location\n"
   ]
  },
  {
   "cell_type": "code",
   "execution_count": 487,
   "metadata": {},
   "outputs": [],
   "source": [
    "#decide which columns I actually care about:\n",
    "my_data = utah.filter(['BEGIN_DAY','BEGIN_TIME','END_DAY','END_TIME','YEAR','MONTH_NAME','INJURIES_DIRECT','INJURIES_INDIRECT','DEATHS_DIRECT','DEATHS_INDIRECT','DAMAGE_PROPERTY','DAMAGE_CROPS','SOURCE','FLOOD_CAUSE','BEGIN_RANGE','BEGIN_LOCATION','CZ_NAME','BEGIN_LAT','BEGIN_LON','END_LAT','END_LON','EPISODE_NARRATIVE','EVENT_NARRATIVE','BEGIN_YEARMONTH','END_YEARMONTH'])\n",
    "\n",
    "#add coordinates to dataframe\n",
    "my_data['begin_coords'] = begin_coords\n",
    "my_data['end_coords'] = end_coords"
   ]
  },
  {
   "cell_type": "code",
   "execution_count": 488,
   "metadata": {},
   "outputs": [],
   "source": [
    "#change damage amounts to numeric:\n",
    "property_damage = []\n",
    "for i in range(0,len(utah)):\n",
    "    if utah.DAMAGE_PROPERTY.tolist()[i].endswith(\"K\"):\n",
    "        property_damage.append(float(utah.DAMAGE_PROPERTY.tolist()[i].split(\"K\")[0])*1000) #if the string ends with K, x1000\n",
    "    else: property_damage.append(float(utah.DAMAGE_PROPERTY.tolist()[i].split(\"M\")[0])*1000000) #if the string ends with M,  x100000\n",
    "\n",
    "\n",
    "crop_damage = []\n",
    "for i in range(0,len(utah)):\n",
    "    if utah.DAMAGE_CROPS.tolist()[i].endswith(\"K\"):\n",
    "        crop_damage.append(float(utah.DAMAGE_CROPS.tolist()[i].split(\"K\")[0])*1000) #if the string ends with K, x1000\n",
    "    else: crop_damage.append(float(utah.DAMAGE_CROPS.tolist()[i].split(\"M\")[0])*1000000) #if the string ends with M,  x100000\n",
    "        \n",
    "my_data['DAMAGE_PROPERTY'] = property_damage\n",
    "my_data['DAMAGE_CROPS'] = crop_damage"
   ]
  },
  {
   "cell_type": "code",
   "execution_count": 489,
   "metadata": {},
   "outputs": [],
   "source": [
    "#change start and end dates to be of the format YYYYMMDDmmss\n",
    "\n",
    "#change begin_yearmonth,begin_day,begin_time,end_yearmonth,endday, and endtime to strings\n",
    "yearmonth = utah.BEGIN_YEARMONTH.astype(str)\n",
    "beginday = utah.BEGIN_DAY.astype(str)\n",
    "begintime = utah.BEGIN_TIME.astype(str)\n",
    "yearmonth2 = utah.END_YEARMONTH.astype(str)\n",
    "endday = utah.END_DAY.astype(str)\n",
    "endtime = utah.END_TIME.astype(str)\n",
    "\n"
   ]
  },
  {
   "cell_type": "code",
   "execution_count": 490,
   "metadata": {},
   "outputs": [],
   "source": [
    "#make sure all time ojects are of the form YYYYMMDDhhmm\n",
    "#note: I used lots of for loops for this. I'm sure there is a better way to do it, but I didn't have time to figure it out \n",
    "for i in range(0,len(beginday)):\n",
    "    if len(beginday.iloc[i]) != 2:\n",
    "        beginday.iloc[i] = '0' + beginday.iloc[i]\n",
    "    else: beginday.iloc[i] = beginday.iloc[i]\n",
    "        \n",
    "for i in range(0,len(endday)):\n",
    "    if len(endday.iloc[i]) != 2:\n",
    "        endday.iloc[i] = '0' + endday.iloc[i]\n",
    "    else: endday.iloc[i] = endday.iloc[i]\n",
    "        \n",
    "for i in range(0,len(begintime)):\n",
    "    if len(begintime.iloc[i]) == 1:\n",
    "        begintime.iloc[i] = '000' + begintime.iloc[i]\n",
    "    elif len(begintime.iloc[i]) == 2:\n",
    "        begintime.iloc[i] = '00' + begintime.iloc[i]\n",
    "    elif len(begintime.iloc[i]) == 3: \n",
    "        begintime.iloc[i] = '0' + begintime.iloc[i]\n",
    "    else: begintime.iloc[i] = begintime.iloc[i]       \n",
    "\n",
    "for i in range(0,len(endtime)):\n",
    "    if endtime.iloc[i] == '0':\n",
    "        endtime.iloc[i] = '0000'\n",
    "    elif len(endtime.iloc[i]) == 1:\n",
    "        endtime.iloc[i] == '000' + endtime.iloc[i]\n",
    "    elif len(endtime.iloc[i]) == 2:\n",
    "        endtime.iloc[i] = '00' + endtime.iloc[i]\n",
    "    elif len(endtime.iloc[i]) == 3: \n",
    "        endtime.iloc[i] = '0' + endtime.iloc[i]\n",
    "    else: endtime.iloc[i] = endtime.iloc[i]\n",
    "\n",
    "begindate = list(yearmonth + beginday + begintime)\n",
    "enddate = list(yearmonth2 + endday + endtime)\n",
    "\n"
   ]
  },
  {
   "cell_type": "code",
   "execution_count": 491,
   "metadata": {},
   "outputs": [
    {
     "data": {
      "application/vnd.jupyter.widget-view+json": {
       "model_id": "4a8fa827b7434206a007e865311507c8",
       "version_major": 2,
       "version_minor": 0
      },
      "text/plain": [
       "HBox(children=(IntProgress(value=0, max=338), HTML(value='')))"
      ]
     },
     "metadata": {},
     "output_type": "display_data"
    },
    {
     "name": "stdout",
     "output_type": "stream",
     "text": [
      "\n"
     ]
    }
   ],
   "source": [
    "from datetime import datetime\n",
    "\n",
    "duration = []\n",
    "for i in tqdm(range(0,len(utah))):\n",
    "    b_year = int(yearmonth.tolist()[i][:-2])\n",
    "    b_mo = int(yearmonth.tolist()[i][-2:])\n",
    "    b_day = int(beginday.tolist()[i])\n",
    "    b_hr = int(begintime.tolist()[i][:-2])\n",
    "    b_min = int(begintime.tolist()[i][-2:])\n",
    "    b_sec = 0\n",
    "\n",
    "    e_year = int(yearmonth2.tolist()[i][:-2])\n",
    "    e_mo = int(yearmonth2.tolist()[i][-2:])\n",
    "    e_day = int(endday.tolist()[i])\n",
    "    e_hr = int(endtime.tolist()[i][:-2])\n",
    "    e_min = int(endtime.tolist()[i][-2:])\n",
    "    e_sec = 0\n",
    "\n",
    "    start = datetime(b_year,b_mo,b_day,b_hr,b_min,b_sec) #start datetime\n",
    "    end  = datetime(e_year,e_mo,e_day,e_hr,e_min,e_sec) #end datetime\n",
    "    d = end - start                      \n",
    "    d = d.total_seconds() \n",
    "\n",
    "    duration.append(d/3600)\n",
    "    \n",
    "#add variable to dataframe\n",
    "my_data['duration'] = duration\n",
    "\n",
    "#NOTE: If duration is 0, that means the flood lasted for less than an hour,maybe even less than a minute. however, the data is probably innacurate. \n",
    "#should I just drop these rows? there are 7 of them.."
   ]
  },
  {
   "cell_type": "code",
   "execution_count": 770,
   "metadata": {},
   "outputs": [
    {
     "data": {
      "text/plain": [
       "Index(['BEGIN_DAY', 'END_DAY', 'YEAR', 'MONTH_NAME', 'INJURIES_DIRECT',\n",
       "       'INJURIES_INDIRECT', 'DEATHS_DIRECT', 'DEATHS_INDIRECT', 'SOURCE',\n",
       "       'FLOOD_CAUSE', 'BEGIN_RANGE', 'BEGIN_LOCATION', 'CZ_NAME', 'duration',\n",
       "       'flood_distance', 'large_prop_damage'],\n",
       "      dtype='object')"
      ]
     },
     "execution_count": 770,
     "metadata": {},
     "output_type": "execute_result"
    }
   ],
   "source": [
    "model_data.columns"
   ]
  },
  {
   "cell_type": "markdown",
   "metadata": {},
   "source": [
    "I was interested in seeing whether I could figure out how far a flood traveled using the latitudes and longitudes. The Haversine formula calculates the curved distance between two points on a sphere given the start and end coordinates, so I found a github page that had this formula coded in Python already. The url of the github: https://gist.github.com/rochacbruno/2883505I. Used his function to calculate the distance that each flood traveled.  "
   ]
  },
  {
   "cell_type": "code",
   "execution_count": 492,
   "metadata": {},
   "outputs": [],
   "source": [
    "#find the distances that each flood travelled (if possible, some of the end locations are missing)\n",
    "my_data['END_LAT'] = my_data.END_LAT.fillna('na') \n",
    "my_data['END_LON'] = my_data.END_LON.fillna('na')\n",
    "\n",
    "#define a function to find the distance between lat/long pairs\n",
    "#the following is not my code, I borrowed this function directly from a github page\n",
    "# Haversine formula example in Python\n",
    "# Author: Wayne Dyck\n",
    "import math\n",
    "def distance(origin, destination):\n",
    "    lat1, lon1 = origin\n",
    "    lat2, lon2 = destination\n",
    "    radius = 6371 # km\n",
    "\n",
    "    dlat = math.radians(lat2-lat1)\n",
    "    dlon = math.radians(lon2-lon1)\n",
    "    a = math.sin(dlat/2) * math.sin(dlat/2) + math.cos(math.radians(lat1)) \\\n",
    "        * math.cos(math.radians(lat2)) * math.sin(dlon/2) * math.sin(dlon/2)\n",
    "    c = 2 * math.atan2(math.sqrt(a), math.sqrt(1-a))\n",
    "    d = radius * c\n",
    "    \n",
    "    return d\n",
    "\n",
    "#create a list of the distances (in miles)\n",
    "distance_list = []\n",
    "for i in range(0,len(begin_coords)):\n",
    "    distance_list.append(distance(origin = begin_coords.tolist()[i],destination=end_coords.tolist()[i]))\n",
    "    \n",
    "#add variable to dataframe\n",
    "my_data['flood_distance'] = distance_list"
   ]
  },
  {
   "cell_type": "code",
   "execution_count": 493,
   "metadata": {},
   "outputs": [],
   "source": [
    "#drop some columns that I won't need for analysis\n",
    "my_data = my_data.drop(columns = ['BEGIN_YEARMONTH','END_YEARMONTH','BEGIN_LAT','BEGIN_LON','END_LAT','END_LON'])\n",
    "my_data.drop(my_data[my_data['duration'] == 0].index, inplace=True) #drop 7 rows that have flood duration = 0"
   ]
  },
  {
   "cell_type": "code",
   "execution_count": 20,
   "metadata": {},
   "outputs": [],
   "source": [
    "###TO DO: Drop rows where duration = 0 and redo the google images change the image file screenshot"
   ]
  },
  {
   "cell_type": "markdown",
   "metadata": {},
   "source": [
    "## Exploratory Data Analysis"
   ]
  },
  {
   "cell_type": "markdown",
   "metadata": {},
   "source": [
    "The following code allows me to map the starting locations of the flash floods in Utah from 2007-2013. An individual API key must be created in order to run the code, so the code is commented and an image of the output is displayed below the commented code. Instructions to create a Google Maps API key is at the following url: https://developers.google.com/maps/documentation/embed/get-api-key. I will first map the starting flash flood locations with points, and then I will illustrate how to build a heatmap that shows where the highest density of flash floods is located in Utah. As seen on the heatmap below, it seems like there is a higher density of flash floods in the South-West corner of the State. This is not surprising, as the Southern Utah area frequently experiences flash floods in the canyons of Zion National Park, Snow Canyon (near St. George), and the Virgin river area. "
   ]
  },
  {
   "cell_type": "code",
   "execution_count": 21,
   "metadata": {},
   "outputs": [],
   "source": [
    "#map the latitudes and longitudes \n",
    "import requests\n",
    "import gmaps\n",
    "import json\n",
    "from gmplot import gmplot\n",
    "gmaps.configure(api_key=\"YOUR API KEY HERE\") "
   ]
  },
  {
   "cell_type": "code",
   "execution_count": 22,
   "metadata": {},
   "outputs": [],
   "source": [
    "#plot the start locations of the floods on a map\n",
    "#center_coords = (39.42,-111.73) #center the base map \n",
    "#fig = gmaps.figure(map_type=\"ROADMAP\",center=center_coords, zoom_level=6)\n",
    "#fig.add_layer(gmaps.symbol_layer(b_lat_long['location'],fill_color='red',stroke_color='red')) \n",
    "#fig"
   ]
  },
  {
   "cell_type": "markdown",
   "metadata": {},
   "source": [
    "![alt text](Roadmap.png \"Start Locations of Flash Floods in Utah\")"
   ]
  },
  {
   "cell_type": "code",
   "execution_count": 23,
   "metadata": {},
   "outputs": [],
   "source": [
    "#locations = b_lat_long['location']\n",
    "#c_coords = (39.4,-111)\n",
    "#fig = gmaps.figure(map_type='HYBRID',center=c_coords,zoom_level=6.2)\n",
    "#heatmap_layer = gmaps.heatmap_layer(locations)\n",
    "#fig.add_layer(heatmap_layer)\n",
    "#fig"
   ]
  },
  {
   "cell_type": "markdown",
   "metadata": {},
   "source": [
    "![alt text](Heatmap.png \"Heatmap Showing the Start Locations of Utah Flash Floods 2007-2013\")"
   ]
  },
  {
   "cell_type": "code",
   "execution_count": 771,
   "metadata": {},
   "outputs": [
    {
     "data": {
      "text/plain": [
       "[Text(0,0,'July'),\n",
       " Text(0,0,'August'),\n",
       " Text(0,0,'September'),\n",
       " Text(0,0,'December'),\n",
       " Text(0,0,'January'),\n",
       " Text(0,0,'May'),\n",
       " Text(0,0,'June'),\n",
       " Text(0,0,'October')]"
      ]
     },
     "execution_count": 771,
     "metadata": {},
     "output_type": "execute_result"
    },
    {
     "data": {
      "image/png": "[encoded data removed]",
      "text/plain": [
       "<Figure size 432x288 with 1 Axes>"
      ]
     },
     "metadata": {},
     "output_type": "display_data"
    }
   ],
   "source": [
    "chart = sns.boxplot('MONTH_NAME','duration',data=my_data)\n",
    "chart.set_xticklabels(chart.get_xticklabels(), rotation=45)"
   ]
  },
  {
   "cell_type": "code",
   "execution_count": 781,
   "metadata": {},
   "outputs": [
    {
     "data": {
      "text/html": [
       "<div>\n",
       "<style scoped>\n",
       "    .dataframe tbody tr th:only-of-type {\n",
       "        vertical-align: middle;\n",
       "    }\n",
       "\n",
       "    .dataframe tbody tr th {\n",
       "        vertical-align: top;\n",
       "    }\n",
       "\n",
       "    .dataframe thead th {\n",
       "        text-align: right;\n",
       "    }\n",
       "</style>\n",
       "<table border=\"1\" class=\"dataframe\">\n",
       "  <thead>\n",
       "    <tr style=\"text-align: right;\">\n",
       "      <th></th>\n",
       "      <th>BEGIN_DAY</th>\n",
       "      <th>BEGIN_TIME</th>\n",
       "      <th>END_DAY</th>\n",
       "      <th>END_TIME</th>\n",
       "      <th>YEAR</th>\n",
       "      <th>MONTH_NAME</th>\n",
       "      <th>INJURIES_DIRECT</th>\n",
       "      <th>INJURIES_INDIRECT</th>\n",
       "      <th>DEATHS_DIRECT</th>\n",
       "      <th>DEATHS_INDIRECT</th>\n",
       "      <th>...</th>\n",
       "      <th>FLOOD_CAUSE</th>\n",
       "      <th>BEGIN_RANGE</th>\n",
       "      <th>BEGIN_LOCATION</th>\n",
       "      <th>CZ_NAME</th>\n",
       "      <th>EPISODE_NARRATIVE</th>\n",
       "      <th>EVENT_NARRATIVE</th>\n",
       "      <th>begin_coords</th>\n",
       "      <th>end_coords</th>\n",
       "      <th>duration</th>\n",
       "      <th>flood_distance</th>\n",
       "    </tr>\n",
       "  </thead>\n",
       "  <tbody>\n",
       "    <tr>\n",
       "      <th>382836</th>\n",
       "      <td>11</td>\n",
       "      <td>1215</td>\n",
       "      <td>11</td>\n",
       "      <td>1515</td>\n",
       "      <td>2012</td>\n",
       "      <td>September</td>\n",
       "      <td>0</td>\n",
       "      <td>0</td>\n",
       "      <td>0</td>\n",
       "      <td>0</td>\n",
       "      <td>...</td>\n",
       "      <td>Dam / Levee Break</td>\n",
       "      <td>1.0</td>\n",
       "      <td>SANTA CLARA</td>\n",
       "      <td>WASHINGTON</td>\n",
       "      <td>Monsoonal moisture interacted with a strong up...</td>\n",
       "      <td>An extended period of moderate to heavy rainfa...</td>\n",
       "      <td>(37.13, -113.64)</td>\n",
       "      <td>(37.13, -113.64)</td>\n",
       "      <td>3.0</td>\n",
       "      <td>0.0</td>\n",
       "    </tr>\n",
       "  </tbody>\n",
       "</table>\n",
       "<p>1 rows × 23 columns</p>\n",
       "</div>"
      ],
      "text/plain": [
       "        BEGIN_DAY  BEGIN_TIME  END_DAY  END_TIME  YEAR MONTH_NAME  \\\n",
       "382836         11        1215       11      1515  2012  September   \n",
       "\n",
       "        INJURIES_DIRECT  INJURIES_INDIRECT  DEATHS_DIRECT  DEATHS_INDIRECT  \\\n",
       "382836                0                  0              0                0   \n",
       "\n",
       "            ...              FLOOD_CAUSE  BEGIN_RANGE BEGIN_LOCATION  \\\n",
       "382836      ...        Dam / Levee Break          1.0    SANTA CLARA   \n",
       "\n",
       "           CZ_NAME                                  EPISODE_NARRATIVE  \\\n",
       "382836  WASHINGTON  Monsoonal moisture interacted with a strong up...   \n",
       "\n",
       "                                          EVENT_NARRATIVE      begin_coords  \\\n",
       "382836  An extended period of moderate to heavy rainfa...  (37.13, -113.64)   \n",
       "\n",
       "              end_coords duration flood_distance  \n",
       "382836  (37.13, -113.64)      3.0            0.0  \n",
       "\n",
       "[1 rows x 23 columns]"
      ]
     },
     "execution_count": 781,
     "metadata": {},
     "output_type": "execute_result"
    }
   ],
   "source": [
    "#chart2 = sns.scatterplot(range(0,len(my_data.DAMAGE_PROPERTY)),'DAMAGE_PROPERTY',data=my_data)\n",
    "my_data[my_data.DAMAGE_PROPERTY == np.max(my_data.DAMAGE_PROPERTY)]"
   ]
  },
  {
   "cell_type": "code",
   "execution_count": 738,
   "metadata": {},
   "outputs": [],
   "source": [
    "#p = sns.boxplot('MONTH_NAME','flood_distance',data=my_data,)\n",
    "#p.set_xticklabels(chart.get_xticklabels(), rotation=45)"
   ]
  },
  {
   "cell_type": "markdown",
   "metadata": {},
   "source": [
    "## Model Fitting "
   ]
  },
  {
   "cell_type": "code",
   "execution_count": 739,
   "metadata": {},
   "outputs": [],
   "source": [
    "#import necessary modules\n",
    "from sklearn.model_selection import train_test_split, cross_val_score\n",
    "from sklearn.linear_model import LinearRegression\n",
    "from sklearn.tree import DecisionTreeRegressor\n",
    "from sklearn.neighbors import KNeighborsRegressor\n",
    "import sklearn\n",
    "from sklearn.preprocessing import StandardScaler"
   ]
  },
  {
   "cell_type": "code",
   "execution_count": 740,
   "metadata": {},
   "outputs": [],
   "source": [
    "from sklearn.model_selection import GridSearchCV\n",
    "from sklearn.linear_model import LogisticRegression\n",
    "from sklearn.naive_bayes import GaussianNB\n",
    "from sklearn.naive_bayes import BernoulliNB\n",
    "\n",
    "from sklearn.tree import DecisionTreeClassifier\n",
    "from sklearn.neighbors import KNeighborsClassifier\n",
    "from sklearn.ensemble import RandomForestClassifier\n",
    "from sklearn.metrics import f1_score, roc_auc_score, roc_curve, precision_score, recall_score, accuracy_score"
   ]
  },
  {
   "cell_type": "code",
   "execution_count": 818,
   "metadata": {},
   "outputs": [
    {
     "data": {
      "text/plain": [
       "(331, 16)"
      ]
     },
     "execution_count": 818,
     "metadata": {},
     "output_type": "execute_result"
    }
   ],
   "source": [
    "model_data = my_data.drop(columns=['begin_coords','end_coords','EVENT_NARRATIVE','EPISODE_NARRATIVE','DAMAGE_CROPS','BEGIN_TIME','END_TIME'])\n",
    "model_data['large_prop_damage'] = model_data['DAMAGE_PROPERTY'] > 0 #classify \"large\" property damage as > $0\n",
    "model_data = model_data.drop(columns=['DAMAGE_PROPERTY']) \n",
    "model_data.shape"
   ]
  },
  {
   "cell_type": "code",
   "execution_count": 819,
   "metadata": {},
   "outputs": [],
   "source": [
    "#separate data into target vector and x matrix \n",
    "X = model_data.iloc[:,0:14]\n",
    "y = model_data.iloc[:,15]"
   ]
  },
  {
   "cell_type": "code",
   "execution_count": 820,
   "metadata": {},
   "outputs": [],
   "source": [
    "#Need to encode strings as floats before fitting models (I'm using Label Encoding rather than One-Hot Encoding)\n",
    "from sklearn import preprocessing\n",
    "le = preprocessing.LabelEncoder()\n",
    "X = X.apply(le.fit_transform)\n",
    "\n"
   ]
  },
  {
   "cell_type": "code",
   "execution_count": 821,
   "metadata": {},
   "outputs": [],
   "source": [
    "#split into training and test set \n",
    "X_train, X_test, y_train, y_test = train_test_split(X,y,random_state=12, test_size=.33,stratify=y)\n",
    "#X_train2, X_test2, y_train2, y_test2 = train_test_split(X_train,y_train,random_state=9, test_size=.33,stratify=y_train)"
   ]
  },
  {
   "cell_type": "markdown",
   "metadata": {},
   "source": [
    "### Cross-Validation of Potential Models:"
   ]
  },
  {
   "cell_type": "code",
   "execution_count": 822,
   "metadata": {},
   "outputs": [],
   "source": [
    "from sklearn import datasets, linear_model\n",
    "from sklearn.model_selection import cross_validate\n",
    "from sklearn.metrics import make_scorer\n",
    "from sklearn.metrics import confusion_matrix\n",
    "from sklearn.svm import LinearSVC\n",
    "\n",
    "LR = LogisticRegression(solver='liblinear')\n",
    "NB = GaussianNB()\n",
    "KNN = KNeighborsClassifier()\n",
    "DT = DecisionTreeClassifier(max_depth=5)\n",
    "RF = RandomForestClassifier(n_estimators=100)"
   ]
  },
  {
   "cell_type": "code",
   "execution_count": 823,
   "metadata": {},
   "outputs": [
    {
     "data": {
      "text/plain": [
       "0.750686994165255"
      ]
     },
     "execution_count": 823,
     "metadata": {},
     "output_type": "execute_result"
    }
   ],
   "source": [
    "scores = cross_validate(LR, X_train, y_train, cv=10,\n",
    "                         scoring=('roc_auc', 'accuracy','recall'),\n",
    "                        return_train_score=False)\n",
    "np.mean(scores['test_accuracy'])"
   ]
  },
  {
   "cell_type": "code",
   "execution_count": 824,
   "metadata": {},
   "outputs": [
    {
     "data": {
      "text/plain": [
       "0.7050536420101637"
      ]
     },
     "execution_count": 824,
     "metadata": {},
     "output_type": "execute_result"
    }
   ],
   "source": [
    "scores = cross_validate(NB, X_train, y_train, cv=10,\n",
    "                         scoring=('roc_auc', 'accuracy','recall'),\n",
    "                        return_train_score=False)\n",
    "np.mean(scores['test_accuracy'])"
   ]
  },
  {
   "cell_type": "code",
   "execution_count": 825,
   "metadata": {},
   "outputs": [
    {
     "data": {
      "text/plain": [
       "0.7341238471673254"
      ]
     },
     "execution_count": 825,
     "metadata": {},
     "output_type": "execute_result"
    }
   ],
   "source": [
    "scores = cross_validate(KNN, X_train, y_train, cv=10,\n",
    "                         scoring=('roc_auc', 'accuracy','recall'),\n",
    "                        return_train_score=False)\n",
    "np.mean(scores['test_accuracy'])"
   ]
  },
  {
   "cell_type": "code",
   "execution_count": 826,
   "metadata": {},
   "outputs": [
    {
     "data": {
      "text/plain": [
       "0.7146809712027103"
      ]
     },
     "execution_count": 826,
     "metadata": {},
     "output_type": "execute_result"
    }
   ],
   "source": [
    "scores = cross_validate(DT, X_train, y_train, cv=10,\n",
    "                         scoring=('roc_auc', 'accuracy','recall'),\n",
    "                        return_train_score=False)\n",
    "np.mean(scores['test_accuracy'])"
   ]
  },
  {
   "cell_type": "code",
   "execution_count": 827,
   "metadata": {},
   "outputs": [
    {
     "data": {
      "text/plain": [
       "0.7515151515151516"
      ]
     },
     "execution_count": 827,
     "metadata": {},
     "output_type": "execute_result"
    }
   ],
   "source": [
    "scores = cross_validate(RF, X_train, y_train, cv=10,\n",
    "                         scoring=('roc_auc', 'accuracy','recall'),\n",
    "                        return_train_score=False)\n",
    "np.mean(scores['test_accuracy'])"
   ]
  },
  {
   "cell_type": "code",
   "execution_count": 828,
   "metadata": {},
   "outputs": [],
   "source": [
    "#scores['test_accuracy']"
   ]
  },
  {
   "cell_type": "code",
   "execution_count": 829,
   "metadata": {},
   "outputs": [],
   "source": [
    "#split into training and test set \n",
    "#Don't use this test set until the END of the problem after selecting the model\n",
    "#X_train, X_test, y_train, y_test = train_test_split(X,y,random_state=12, test_size=.33,stratify=y)\n",
    "#X_train2, X_test2, y_train2, y_test2 = train_test_split(X_train,y_train,random_state=9, test_size=.33,stratify=y_train)"
   ]
  },
  {
   "cell_type": "markdown",
   "metadata": {},
   "source": [
    "The cross-validated accuracies are all pretty high, so I decided to fit all of them and compare the AUC for each model to decide which one I would pick. The reason I chose to compare the accuracies first is because it is one of the most intuitive metrics to interpret, so as a first interpretive metric I thought it would be good to use as a first idea of how the models might perform."
   ]
  },
  {
   "cell_type": "markdown",
   "metadata": {},
   "source": [
    "### Oversampling to Balance the Classes\n",
    "There are 78 \"large damage\" floods and 253 \"small damage\" floods, so I'm going to try oversampling from the minority class to create a test and training set that are equal in class proportion. \n",
    "\n",
    "Oversampling is basically adding more copies of the minority class. Oversampling can be a good choice when you don’t have a ton of data to work with. (Source: https://medium.com/all-things-ai/in-depth-parameter-tuning-for-random-forest-d67bb7e920d)\n"
   ]
  },
  {
   "cell_type": "code",
   "execution_count": 830,
   "metadata": {},
   "outputs": [],
   "source": [
    "#from sklearn.utils import resample\n",
    "# concatenate our training data back together\n",
    "#X = pd.concat([X_train2, y_train2], axis=1)\n",
    "\n",
    "# separate minority and majority classes\n",
    "#large = X[X.large_prop_damage == True] #minority class\n",
    "#small = X[X.large_prop_damage == False] #majority class\n",
    "\n",
    "\n",
    "# upsample minority\n",
    "#large_upsampled = resample(large,\n",
    "#                          replace=True, # sample with replacement\n",
    "#                          n_samples=len(small), # match number in majority class\n",
    "#                          random_state=1234) \n",
    "\n",
    "# combine majority and upsampled minority\n",
    "#upsampled = pd.concat([small, large_upsampled])\n",
    "\n",
    "# check new class counts\n",
    "#upsampled.large_prop_damage.value_counts()"
   ]
  },
  {
   "cell_type": "code",
   "execution_count": 831,
   "metadata": {},
   "outputs": [],
   "source": [
    "#y_train = upsampled.large_prop_damage\n",
    "#X_train = upsampled.drop('large_prop_damage', axis=1)\n"
   ]
  },
  {
   "cell_type": "markdown",
   "metadata": {},
   "source": [
    "The reason that the oversampling code is commented out is because when I tried oversampling to equal out the class distributions, I calculated the AUC scores before and after and most of them decreased. I should note that the KNN accuracy did increase with the oversampling, as KNN generally performs better when there is no class imbalance, but it still was not as high as the Logistic Regression or Naive Bayes classifier. "
   ]
  },
  {
   "cell_type": "markdown",
   "metadata": {},
   "source": [
    "#### Label Encoding for Categorical Variables\n",
    "\n",
    "I had a problem fitting the models before I remembered that Python has a difficult time processing levels of categorical variables, so I decided to use label encoders on the training and test sets"
   ]
  },
  {
   "cell_type": "code",
   "execution_count": 832,
   "metadata": {},
   "outputs": [],
   "source": [
    "#Need to encode strings as floats before fitting models (I'm using Label Encoding rather than One-Hot Encoding)\n",
    "from sklearn import preprocessing\n",
    "le = preprocessing.LabelEncoder()\n",
    "X_train = X_train.apply(le.fit_transform)\n",
    "#X_train2 = X_train2.apply(le.fit_transform)\n",
    "X_test = X_test.apply(le.fit_transform)\n",
    "#X_test2 = X_test2.apply(le.fit_transform)\n",
    "\n"
   ]
  },
  {
   "cell_type": "markdown",
   "metadata": {},
   "source": [
    "## Model Fitting\n",
    "\n",
    "I chose to use Logistic Regression, Naive Bayes, Decision Tree, and Random Forest models on this data. Logistic Regression and Naïve Bayes were chosen because the response is a binary classifier. These models are also some of the simplest and easiest models to interpret. Decision trees work well with categorical variables, but can be prone to overfitting (set a max_depth to combat this), so I wanted to compare the decision tree with the random forest model to see if a single tree could perform better than the forest, which usually isn't the case. Random forest was advantageous for its feature importance estimates and lower risk of overfitting. It is generally better than decision trees -- random sampling of training data points when building trees and random subsets of features considered when splitting nodes."
   ]
  },
  {
   "cell_type": "markdown",
   "metadata": {},
   "source": [
    "### Logistic Regression:"
   ]
  },
  {
   "cell_type": "code",
   "execution_count": 833,
   "metadata": {},
   "outputs": [],
   "source": [
    "lr = LogisticRegression(solver='liblinear',class_weight='balanced') \n",
    "lr.fit(X_train2, y_train2)\n",
    "y_lr = lr.predict(X_test)\n",
    "prob_lr = lr.predict_proba(X_test)[:,1]"
   ]
  },
  {
   "cell_type": "code",
   "execution_count": 834,
   "metadata": {},
   "outputs": [],
   "source": [
    "#AUC\n",
    "lr_auc = roc_auc_score(y_test,prob_lr)\n",
    "fpr_lr, tpr_lr, thresh = roc_curve(y_test, prob_lr)"
   ]
  },
  {
   "cell_type": "markdown",
   "metadata": {},
   "source": [
    "### Naive Bayes:"
   ]
  },
  {
   "cell_type": "code",
   "execution_count": 835,
   "metadata": {},
   "outputs": [],
   "source": [
    "nb = GaussianNB()\n",
    "nb.fit(X_train2, y_train2)\n",
    "y_nb = nb.predict(X_test)\n",
    "prob_nb = nb.predict_proba(X_test)[:,1]"
   ]
  },
  {
   "cell_type": "code",
   "execution_count": 836,
   "metadata": {},
   "outputs": [],
   "source": [
    "#AUC \n",
    "nb_auc = roc_auc_score(y_test,prob_nb)\n",
    "fpr_nb, tpr_nb, thresh = roc_curve(y_test, prob_nb)\n"
   ]
  },
  {
   "cell_type": "markdown",
   "metadata": {},
   "source": [
    "### Decision Tree:"
   ]
  },
  {
   "cell_type": "code",
   "execution_count": 837,
   "metadata": {},
   "outputs": [],
   "source": [
    "tr = DecisionTreeClassifier(max_depth=5)\n",
    "tr.fit(X_train, y_train)\n",
    "\n",
    "yhat_tr = tr.predict(X_test)\n",
    "prob_tr = tr.predict_proba(X_test)[:,1]\n",
    "tr_acc = accuracy_score(y_test,yhat_tr)\n",
    "tr_auc = roc_auc_score(y_test,yhat_tr)\n",
    "fpr_tr, tpr_tr, thresh = roc_curve(y_test,prob_tr)\n"
   ]
  },
  {
   "cell_type": "markdown",
   "metadata": {},
   "source": [
    "### Random Forest:"
   ]
  },
  {
   "cell_type": "code",
   "execution_count": 843,
   "metadata": {},
   "outputs": [
    {
     "data": {
      "image/png": "[encoded data removed]",
      "text/plain": [
       "<Figure size 432x288 with 1 Axes>"
      ]
     },
     "metadata": {},
     "output_type": "display_data"
    }
   ],
   "source": [
    "rf = RandomForestClassifier(n_estimators=100)\n",
    "mod = rf.fit(X_train, y_train)\n",
    "Importance = pd.DataFrame({'Importance':mod.feature_importances_*100}, index= X_train.columns)\n",
    "#Importance = Importance.iloc[mod.feature_importances_ > 0:]\n",
    "Importance = Importance.sort_values('Importance', axis=0, ascending=True)\n",
    "Importance.plot(kind='barh', color='lightgreen', )\n",
    "plt.xlabel('Most Important Flash Flood Factors')\n",
    "plt.gca().legend_ = None\n"
   ]
  },
  {
   "cell_type": "code",
   "execution_count": 844,
   "metadata": {},
   "outputs": [
    {
     "data": {
      "text/plain": [
       "array(['Park/Forest Service', 'County Official',\n",
       "       'Official NWS Observations', 'COOP Observer', 'Broadcast Media',\n",
       "       'Newspaper', 'Trained Spotter', 'Public', 'CoCoRaHS',\n",
       "       'Emergency Manager', 'Law Enforcement', 'State Official',\n",
       "       'Department of Highways', 'Other Federal Agency', 'NWS Employee',\n",
       "       'Utility Company', '911 Call Center'], dtype=object)"
      ]
     },
     "execution_count": 844,
     "metadata": {},
     "output_type": "execute_result"
    }
   ],
   "source": [
    "model_data.SOURCE.unique()"
   ]
  },
  {
   "cell_type": "code",
   "execution_count": 845,
   "metadata": {},
   "outputs": [],
   "source": [
    "y_rf = rf.predict(X_test)\n",
    "prob_rf = rf.predict_proba(X_test)[:,1]\n",
    "\n",
    "rf_auc = roc_auc_score(y_test, prob_rf)\n",
    "fpr_rf, tpr_rf, thresh = roc_curve(y_test, prob_rf)"
   ]
  },
  {
   "cell_type": "markdown",
   "metadata": {},
   "source": [
    "## Select a Model:"
   ]
  },
  {
   "cell_type": "code",
   "execution_count": 846,
   "metadata": {},
   "outputs": [
    {
     "data": {
      "text/plain": [
       "<matplotlib.legend.Legend at 0x1d23f201ac8>"
      ]
     },
     "execution_count": 846,
     "metadata": {},
     "output_type": "execute_result"
    },
    {
     "data": {
      "image/png": "[encoded data removed]",
      "text/plain": [
       "<Figure size 432x288 with 1 Axes>"
      ]
     },
     "metadata": {},
     "output_type": "display_data"
    }
   ],
   "source": [
    "plt.plot(fpr_lr, tpr_lr, color='yellow', label='LR')\n",
    "plt.plot(fpr_nb, tpr_nb, color='red', label='Naive Bayes')\n",
    "plt.plot(fpr_rf,tpr_rf, color='magenta',label= 'Random Forest')\n",
    "plt.plot(fpr_tr,tpr_tr, color='blue', label = 'Decision Tree')\n",
    "plt.plot([0, 1], [0, 1], color='darkblue', linestyle='--')\n",
    "plt.xlabel('False Positive Rate')\n",
    "plt.ylabel('True Positive Rate')\n",
    "plt.title('Receiver Operating Characteristic (ROC) Curve')\n",
    "plt.legend()"
   ]
  },
  {
   "cell_type": "code",
   "execution_count": 847,
   "metadata": {},
   "outputs": [
    {
     "data": {
      "text/plain": [
       "{'LR': 0.6305220883534136,\n",
       " 'NB': 0.4814814814814815,\n",
       " 'Tree': 0.6017402945113789,\n",
       " 'RF': 0.6671128960285587}"
      ]
     },
     "execution_count": 847,
     "metadata": {},
     "output_type": "execute_result"
    }
   ],
   "source": [
    "#Compare all the AUCs:\n",
    "comp_auc = {\"LR\":lr_auc,\"NB\":nb_auc,\"Tree\":tr_auc,\"RF\":rf_auc}\n",
    "comp_auc"
   ]
  },
  {
   "cell_type": "markdown",
   "metadata": {},
   "source": [
    "It appears that the Random Forest classifier has the highest AUC, which means it has a greater ability to separate the classes than the others. It would almost be just as good to randomly flip a coin to predict the classes for Naive Bayes. This is most likely due to the fact that I chose not to worry about the class imbalance as it was a relatively small dataset and I could get a pretty decent result with Random Forest and Logistic Regression as well. I decided to calculate the metrics for RF and LR, and choose between the two models. "
   ]
  },
  {
   "cell_type": "markdown",
   "metadata": {},
   "source": [
    "#### Calculate Other Metrics for Random Forest and Logistic Regression:"
   ]
  },
  {
   "cell_type": "code",
   "execution_count": 848,
   "metadata": {},
   "outputs": [],
   "source": [
    "rf_acc = accuracy_score(y_test,y_rf)\n",
    "rf_f1 = f1_score(y_test,y_rf)\n",
    "rf_pre = precision_score(y_test,y_rf)\n",
    "rf_rec = recall_score(y_test,y_rf)\n",
    "\n",
    "lr_acc = accuracy_score(y_test,y_lr)\n",
    "lr_f1 = f1_score(y_test,y_lr)\n",
    "lr_pre = precision_score(y_test,y_lr)\n",
    "lr_rec = recall_score(y_test,y_lr)"
   ]
  },
  {
   "cell_type": "code",
   "execution_count": 849,
   "metadata": {},
   "outputs": [],
   "source": [
    "#logistic regression metrics: \n",
    "comp_lr = {\"Accuracy\":lr_acc,\"F1\":lr_f1,\"Precision\":lr_pre,\"Recall\":lr_rec}\n",
    "#Random forest metrics:\n",
    "comp_rf = {\"Accuracy\":rf_acc,\"F1\":rf_f1,\"Precision\":rf_pre,\"Recall\":rf_rec}"
   ]
  },
  {
   "cell_type": "code",
   "execution_count": 850,
   "metadata": {},
   "outputs": [
    {
     "data": {
      "text/plain": [
       "{'Accuracy': 0.6909090909090909,\n",
       " 'F1': 0.31999999999999995,\n",
       " 'Precision': 0.34782608695652173,\n",
       " 'Recall': 0.2962962962962963}"
      ]
     },
     "execution_count": 850,
     "metadata": {},
     "output_type": "execute_result"
    }
   ],
   "source": [
    "comp_lr"
   ]
  },
  {
   "cell_type": "code",
   "execution_count": 852,
   "metadata": {},
   "outputs": [
    {
     "data": {
      "text/plain": [
       "{'Accuracy': 0.7090909090909091,\n",
       " 'F1': 0.4666666666666667,\n",
       " 'Precision': 0.42424242424242425,\n",
       " 'Recall': 0.5185185185185185}"
      ]
     },
     "execution_count": 852,
     "metadata": {},
     "output_type": "execute_result"
    }
   ],
   "source": [
    "comp_rf"
   ]
  },
  {
   "cell_type": "markdown",
   "metadata": {},
   "source": [
    "## Results and Conclusion"
   ]
  },
  {
   "cell_type": "markdown",
   "metadata": {},
   "source": [
    "My first comment about this analysis is that I have a relatively small dataset, so it's pretty susceptible to variability in the various metrics after the random split. I tried first doing a train/test split on the training set, rather than cross-validation on the training set, to choose the model I wanted to use. Because my data is small, this led to a lower accuracy--likely due to a large proportion of classes being randomly placed in the training/test set than I would have preferred. I then tried to do a cross-validation and calculate the accuracy and AUC scores for the training set on all the models. This did increase the accuracy scores a bit, likely because that randomness factor was mitigated. The Random Forest model fit the best, which wasn't much of a surprise to me. Averaging a lot of decision trees logically seems like it would provide the highest accuracy score. Logistic regression also performed well, likely because it was a binary classifier and relatively small dataset."
   ]
  },
  {
   "cell_type": "markdown",
   "metadata": {},
   "source": [
    "## Limitations of Analysis and Further Questions"
   ]
  },
  {
   "cell_type": "markdown",
   "metadata": {},
   "source": [
    "One limitation of this analysis is that I have a smaller dataset (331 rows) that may be prone to large differences in random train/test splits. I tried using cross-validation to overcome this issue, but the best solution would be to get more data. Another potential issue with this analysis is the class imbalance - 250 floods with no damage, and 81 floods with greater than zero dollars in damage -that might affect the classification metrics. We could expand our dataset to include floods from the US instead of just Utah, which likely would increase the runtime of the analysis. I tried oversampling from the minority class (property damage greater than zero) to combat the class imbalance, but it didn't seem to do much. I wonder if a larger dataset would have changed that. Another limitation is that it's hard to specify a logical cutoff value other than $0 of property damage, so I'm wondering if a regression analysis would have been more informative. A final limitation is that reading in the data takes a while – even with only a few CSV files from the web - so if there was a way to streamline this process that would make the analysis better. "
   ]
  }
 ],
 "metadata": {
  "kernelspec": {
   "display_name": "Python 3",
   "language": "python",
   "name": "python3"
  },
  "language_info": {
   "codemirror_mode": {
    "name": "ipython",
    "version": 3
   },
   "file_extension": ".py",
   "mimetype": "text/x-python",
   "name": "python",
   "nbconvert_exporter": "python",
   "pygments_lexer": "ipython3",
   "version": "3.6.5"
  }
 },
 "nbformat": 4,
 "nbformat_minor": 2
}
